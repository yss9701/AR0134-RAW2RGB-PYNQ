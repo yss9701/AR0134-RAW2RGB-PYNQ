{
 "cells": [
  {
   "cell_type": "markdown",
   "metadata": {},
   "source": [
    "# pynq驱动AR0134摄像头，LCD显示，OpenCV处理"
   ]
  },
  {
   "cell_type": "markdown",
   "metadata": {},
   "source": [
    "初始化库"
   ]
  },
  {
   "cell_type": "code",
   "execution_count": 1,
   "metadata": {},
   "outputs": [
    {
     "data": {
      "application/javascript": [
       "\n",
       "try {\n",
       "require(['notebook/js/codecell'], function(codecell) {\n",
       "  codecell.CodeCell.options_default.highlight_modes[\n",
       "      'magic_text/x-csrc'] = {'reg':[/^%%microblaze/]};\n",
       "  Jupyter.notebook.events.one('kernel_ready.Kernel', function(){\n",
       "      Jupyter.notebook.get_cells().map(function(cell){\n",
       "          if (cell.cell_type == 'code'){ cell.auto_highlight(); } }) ;\n",
       "  });\n",
       "});\n",
       "} catch (e) {};\n"
      ]
     },
     "metadata": {},
     "output_type": "display_data"
    }
   ],
   "source": [
    "from pynq import Overlay\n",
    "from pynq.lib.iic import *\n",
    "from ov5640_cfg import *\n",
    "from ar0134_cfg import *\n",
    "from pynq.lib.video import *\n",
    "from time import sleep\n",
    "import dma\n",
    "import os\n",
    "import shutil\n",
    "import cv2\n",
    "from PIL import Image\n",
    "import IPython\n",
    "import numpy as np\n",
    "import time\n",
    "from pynq.lib import AxiGPIO\n",
    "\n",
    "cv_ov5640 = Overlay(\"cv_ov5640.bit\")"
   ]
  },
  {
   "cell_type": "markdown",
   "metadata": {},
   "source": [
    "复位LCD"
   ]
  },
  {
   "cell_type": "code",
   "execution_count": 2,
   "metadata": {},
   "outputs": [],
   "source": [
    "led_instance = cv_ov5640.ip_dict['axi_gpio_1']\n",
    "led = AxiGPIO(led_instance).channel1"
   ]
  },
  {
   "cell_type": "code",
   "execution_count": 3,
   "metadata": {},
   "outputs": [],
   "source": [
    "led[0].write(0x0)"
   ]
  },
  {
   "cell_type": "code",
   "execution_count": 4,
   "metadata": {},
   "outputs": [],
   "source": [
    "led[0].write(0x1)"
   ]
  },
  {
   "cell_type": "markdown",
   "metadata": {},
   "source": [
    "初始化摄像头"
   ]
  },
  {
   "cell_type": "code",
   "execution_count": 5,
   "metadata": {},
   "outputs": [],
   "source": [
    "iic = AxiIIC(cv_ov5640.ip_dict['axi_iic_0']);\n",
    "address = 0x10;\n",
    "length = 4;\n",
    "time.sleep(1)\n",
    "for config in ar0134_cfg:\n",
    "    tmp1 = config[0] >> 8;\n",
    "    tmp2 = config[0] & 0xff;\n",
    "    #iic.send(address, bytes([tmp1, tmp2]), length)\n",
    "    #time.sleep(0.0005)\n",
    "    tmp3 = config[1] >> 8;\n",
    "    tmp4 = config[1] & 0xff;\n",
    "    iic.send(address, bytes([tmp1, tmp2, tmp3, tmp4]), length)\n",
    "    if config[0] == 0x301A or config[0] == 0x30D4 or config[0] == 0x30B0:\n",
    "        time.sleep(0.05)\n",
    "    time.sleep(0.005)\n",
    "    \n",
    "    #iic.wait()\n",
    "    \n",
    "    "
   ]
  },
  {
   "cell_type": "markdown",
   "metadata": {},
   "source": [
    "Sensor Demosaic ip配置，raw转rgb"
   ]
  },
  {
   "cell_type": "code",
   "execution_count": 6,
   "metadata": {},
   "outputs": [],
   "source": [
    "sensor_demosaic = cv_ov5640.v_demosaic_0\n",
    "sensor_demosaic.write(0x0010,1280)\n",
    "sensor_demosaic.write(0x0018,720)\n",
    "sensor_demosaic.write(0x0028,0x03)\n",
    "sensor_demosaic.write(0x0000,0x81)\n",
    "\n"
   ]
  },
  {
   "cell_type": "markdown",
   "metadata": {},
   "source": [
    "rgb顺序转换，图像大小转换，适应屏幕"
   ]
  },
  {
   "cell_type": "code",
   "execution_count": 7,
   "metadata": {},
   "outputs": [],
   "source": [
    "frame_resize = cv_ov5640.frame_resize_0\n",
    "frame_resize.write(0x10, 720)\n",
    "frame_resize.write(0x18, 1280)\n",
    "frame_resize.write(0x20, 0)\n",
    "frame_resize.write(0x00, 0x81)\n",
    "\n",
    "rgb2gbr = cv_ov5640.RGB2GBR_0\n",
    "rgb2gbr.write(0x10, 720)\n",
    "rgb2gbr.write(0x18, 1280)\n",
    "rgb2gbr.write(0x20, 0)\n",
    "rgb2gbr.write(0x00, 0x81)"
   ]
  },
  {
   "cell_type": "markdown",
   "metadata": {},
   "source": [
    "开启vdma，一个用于LCD显示，一个用于向ps输送图像，OpenCV处理"
   ]
  },
  {
   "cell_type": "code",
   "execution_count": 8,
   "metadata": {},
   "outputs": [],
   "source": [
    "vdma0 = cv_ov5640.axi_vdma_0\n",
    "vdma1 = cv_ov5640.axi_vdma_1\n",
    "vdma0.writechannel.mode = VideoMode(1280, 720, 24)\n",
    "vdma1.readchannel.mode = vdma0.writechannel.mode\n",
    "vdma0.readchannel.mode = vdma0.writechannel.mode\n",
    "vdma1.readchannel.mode = VideoMode(800, 480, 24)\n",
    "vdma1.writechannel.mode = vdma1.readchannel.mode\n",
    "vdma0.readchannel.tie(vdma0.writechannel)\n",
    "vdma1.readchannel.tie(vdma1.writechannel)\n",
    "vdma0.writechannel.start()\n",
    "vdma0.readchannel.start()\n",
    "vdma1.writechannel.start()\n",
    "vdma1.readchannel.start()"
   ]
  },
  {
   "cell_type": "markdown",
   "metadata": {},
   "source": [
    "得到Mat格式图像，OpenCV处理"
   ]
  },
  {
   "cell_type": "code",
   "execution_count": null,
   "metadata": {
    "scrolled": true
   },
   "outputs": [],
   "source": [
    "while True:\n",
    "    while True:\n",
    "        frame = vdma0.readchannel.readframe()\n",
    "        if(frame.max() != 0):\n",
    "            break;\n",
    "\n",
    "    image_pil = Image.fromarray(frame)\n",
    "    frame =0\n",
    "    img_cv = np.asarray(image_pil) #得到mat类型的数据\n",
    "    img_cv = cv2.resize(img_cv, (192,168))\n",
    "    #利用img_cv进行opencv处理\n",
    "    #cv2.rectangle(img_cv,(int(0),int(0)),(int(100),int(100)),(0,255,0),3)\n",
    "\n",
    "\n",
    "    #将opencv数据转回PIL数据，显示\n",
    "    #img1 = Image.fromarray(cv2.cvtColor(img_cv,cv2.COLOR_RGB2BGR))\n",
    "    img1 = Image.fromarray(img_cv)\n",
    "    #b, g, r = img1.split()\n",
    "    #img1 = Image.merge('RGB', [g,b,r])\n",
    "    IPython.display.clear_output(1)\n",
    "    display(img1)\n",
    "    time.sleep(0.2)\n",
    "    #vdma0.writechannel.writeframe(img1) \n",
    "    #vdma1.writechannel.writeframe(image)  "
   ]
  },
  {
   "cell_type": "markdown",
   "metadata": {},
   "source": [
    "后面的没有用，是调试时留下的，可以参考，人脸检测及pwm生成"
   ]
  },
  {
   "cell_type": "code",
   "execution_count": 4,
   "metadata": {},
   "outputs": [],
   "source": [
    "gaussianBlur = cv_ov5640.ov5640_GaussianBlur_0\n",
    "gaussianBlur.write(0x10, 720)\n",
    "gaussianBlur.write(0x18, 1280)\n",
    "gaussianBlur.write(0x20, 0)\n",
    "gaussianBlur.write(0x00, 0x81)\n",
    "vdma0 = cv_ov5640.axi_vdma_0\n",
    "vdma1 = cv_ov5640.axi_vdma_1\n",
    "vdma0.writechannel.mode = VideoMode(192, 168, 8)\n",
    "#vdma1.readchannel.mode = vdma0.writechannel.mode\n",
    "vdma0.readchannel.mode = vdma0.writechannel.mode\n",
    "vdma1.readchannel.mode = VideoMode(800, 480, 24)\n",
    "vdma1.writechannel.mode = vdma1.readchannel.mode\n",
    "vdma0.readchannel.tie(vdma0.writechannel)\n",
    "vdma1.readchannel.tie(vdma1.writechannel)\n",
    "vdma0.writechannel.start()\n",
    "vdma0.readchannel.start()\n",
    "vdma1.writechannel.start()\n",
    "vdma1.readchannel.start()"
   ]
  },
  {
   "cell_type": "code",
   "execution_count": 3,
   "metadata": {},
   "outputs": [],
   "source": [
    "pwm = cv_ov5640.pwm_generate_0\n",
    "pwm.write(0x00, 1000)\n",
    "pwm.write(0x04, 500)\n",
    "pwm.write(0x08, 10000)\n",
    "pwm.write(0x0c, 5000)\n",
    "pwm.write(0x10, 10000)\n",
    "pwm.write(0x14, 5000)\n",
    "pwm.write(0x18, 10000)\n",
    "pwm.write(0x1c, 5000)\n",
    "\n"
   ]
  },
  {
   "cell_type": "code",
   "execution_count": 6,
   "metadata": {},
   "outputs": [
    {
     "ename": "KeyboardInterrupt",
     "evalue": "",
     "output_type": "error",
     "traceback": [
      "\u001b[0;31m---------------------------------------------------------------------------\u001b[0m",
      "\u001b[0;31mKeyboardInterrupt\u001b[0m                         Traceback (most recent call last)",
      "\u001b[0;32m<ipython-input-6-3783ae7ce202>\u001b[0m in \u001b[0;36m<module>\u001b[0;34m()\u001b[0m\n\u001b[1;32m      2\u001b[0m \u001b[0;32mwhile\u001b[0m\u001b[0;34m(\u001b[0m\u001b[0;32mTrue\u001b[0m\u001b[0;34m)\u001b[0m\u001b[0;34m:\u001b[0m\u001b[0;34m\u001b[0m\u001b[0m\n\u001b[1;32m      3\u001b[0m     \u001b[0;32mwhile\u001b[0m\u001b[0;34m(\u001b[0m\u001b[0;32mTrue\u001b[0m\u001b[0;34m)\u001b[0m\u001b[0;34m:\u001b[0m\u001b[0;34m\u001b[0m\u001b[0m\n\u001b[0;32m----> 4\u001b[0;31m         \u001b[0mframe\u001b[0m \u001b[0;34m=\u001b[0m \u001b[0mvdma0\u001b[0m\u001b[0;34m.\u001b[0m\u001b[0mreadchannel\u001b[0m\u001b[0;34m.\u001b[0m\u001b[0mreadframe\u001b[0m\u001b[0;34m(\u001b[0m\u001b[0;34m)\u001b[0m\u001b[0;34m\u001b[0m\u001b[0m\n\u001b[0m\u001b[1;32m      5\u001b[0m         \u001b[0;32mif\u001b[0m\u001b[0;34m(\u001b[0m\u001b[0mframe\u001b[0m\u001b[0;34m.\u001b[0m\u001b[0mmax\u001b[0m\u001b[0;34m(\u001b[0m\u001b[0;34m)\u001b[0m \u001b[0;34m!=\u001b[0m \u001b[0;36m0\u001b[0m\u001b[0;34m)\u001b[0m\u001b[0;34m:\u001b[0m\u001b[0;34m\u001b[0m\u001b[0m\n\u001b[1;32m      6\u001b[0m             \u001b[0;32mbreak\u001b[0m\u001b[0;34m;\u001b[0m\u001b[0;34m\u001b[0m\u001b[0m\n",
      "\u001b[0;32m/home/xilinx/jupyter_notebooks/face_detection/dma.py\u001b[0m in \u001b[0;36mreadframe\u001b[0;34m(self)\u001b[0m\n\u001b[1;32m    203\u001b[0m                 \u001b[0mloop\u001b[0m \u001b[0;34m=\u001b[0m \u001b[0masyncio\u001b[0m\u001b[0;34m.\u001b[0m\u001b[0mget_event_loop\u001b[0m\u001b[0;34m(\u001b[0m\u001b[0;34m)\u001b[0m\u001b[0;34m\u001b[0m\u001b[0m\n\u001b[1;32m    204\u001b[0m                 loop.run_until_complete(\n\u001b[0;32m--> 205\u001b[0;31m                     asyncio.ensure_future(self._interrupt.wait()))\n\u001b[0m\u001b[1;32m    206\u001b[0m                 \u001b[0;32mpass\u001b[0m\u001b[0;34m\u001b[0m\u001b[0m\n\u001b[1;32m    207\u001b[0m             \u001b[0mself\u001b[0m\u001b[0;34m.\u001b[0m\u001b[0m_mmio\u001b[0m\u001b[0;34m.\u001b[0m\u001b[0mwrite\u001b[0m\u001b[0;34m(\u001b[0m\u001b[0;36m0x34\u001b[0m\u001b[0;34m,\u001b[0m \u001b[0;36m0x1000\u001b[0m\u001b[0;34m)\u001b[0m\u001b[0;34m\u001b[0m\u001b[0m\n",
      "\u001b[0;32m/usr/lib/python3.6/asyncio/base_events.py\u001b[0m in \u001b[0;36mrun_until_complete\u001b[0;34m(self, future)\u001b[0m\n\u001b[1;32m    453\u001b[0m         \u001b[0mfuture\u001b[0m\u001b[0;34m.\u001b[0m\u001b[0madd_done_callback\u001b[0m\u001b[0;34m(\u001b[0m\u001b[0m_run_until_complete_cb\u001b[0m\u001b[0;34m)\u001b[0m\u001b[0;34m\u001b[0m\u001b[0m\n\u001b[1;32m    454\u001b[0m         \u001b[0;32mtry\u001b[0m\u001b[0;34m:\u001b[0m\u001b[0;34m\u001b[0m\u001b[0m\n\u001b[0;32m--> 455\u001b[0;31m             \u001b[0mself\u001b[0m\u001b[0;34m.\u001b[0m\u001b[0mrun_forever\u001b[0m\u001b[0;34m(\u001b[0m\u001b[0;34m)\u001b[0m\u001b[0;34m\u001b[0m\u001b[0m\n\u001b[0m\u001b[1;32m    456\u001b[0m         \u001b[0;32mexcept\u001b[0m\u001b[0;34m:\u001b[0m\u001b[0;34m\u001b[0m\u001b[0m\n\u001b[1;32m    457\u001b[0m             \u001b[0;32mif\u001b[0m \u001b[0mnew_task\u001b[0m \u001b[0;32mand\u001b[0m \u001b[0mfuture\u001b[0m\u001b[0;34m.\u001b[0m\u001b[0mdone\u001b[0m\u001b[0;34m(\u001b[0m\u001b[0;34m)\u001b[0m \u001b[0;32mand\u001b[0m \u001b[0;32mnot\u001b[0m \u001b[0mfuture\u001b[0m\u001b[0;34m.\u001b[0m\u001b[0mcancelled\u001b[0m\u001b[0;34m(\u001b[0m\u001b[0;34m)\u001b[0m\u001b[0;34m:\u001b[0m\u001b[0;34m\u001b[0m\u001b[0m\n",
      "\u001b[0;32m/usr/lib/python3.6/asyncio/base_events.py\u001b[0m in \u001b[0;36mrun_forever\u001b[0;34m(self)\u001b[0m\n\u001b[1;32m    420\u001b[0m             \u001b[0mevents\u001b[0m\u001b[0;34m.\u001b[0m\u001b[0m_set_running_loop\u001b[0m\u001b[0;34m(\u001b[0m\u001b[0mself\u001b[0m\u001b[0;34m)\u001b[0m\u001b[0;34m\u001b[0m\u001b[0m\n\u001b[1;32m    421\u001b[0m             \u001b[0;32mwhile\u001b[0m \u001b[0;32mTrue\u001b[0m\u001b[0;34m:\u001b[0m\u001b[0;34m\u001b[0m\u001b[0m\n\u001b[0;32m--> 422\u001b[0;31m                 \u001b[0mself\u001b[0m\u001b[0;34m.\u001b[0m\u001b[0m_run_once\u001b[0m\u001b[0;34m(\u001b[0m\u001b[0;34m)\u001b[0m\u001b[0;34m\u001b[0m\u001b[0m\n\u001b[0m\u001b[1;32m    423\u001b[0m                 \u001b[0;32mif\u001b[0m \u001b[0mself\u001b[0m\u001b[0;34m.\u001b[0m\u001b[0m_stopping\u001b[0m\u001b[0;34m:\u001b[0m\u001b[0;34m\u001b[0m\u001b[0m\n\u001b[1;32m    424\u001b[0m                     \u001b[0;32mbreak\u001b[0m\u001b[0;34m\u001b[0m\u001b[0m\n",
      "\u001b[0;32m/usr/lib/python3.6/asyncio/base_events.py\u001b[0m in \u001b[0;36m_run_once\u001b[0;34m(self)\u001b[0m\n\u001b[1;32m   1394\u001b[0m                            timeout * 1e3, dt * 1e3)\n\u001b[1;32m   1395\u001b[0m         \u001b[0;32melse\u001b[0m\u001b[0;34m:\u001b[0m\u001b[0;34m\u001b[0m\u001b[0m\n\u001b[0;32m-> 1396\u001b[0;31m             \u001b[0mevent_list\u001b[0m \u001b[0;34m=\u001b[0m \u001b[0mself\u001b[0m\u001b[0;34m.\u001b[0m\u001b[0m_selector\u001b[0m\u001b[0;34m.\u001b[0m\u001b[0mselect\u001b[0m\u001b[0;34m(\u001b[0m\u001b[0mtimeout\u001b[0m\u001b[0;34m)\u001b[0m\u001b[0;34m\u001b[0m\u001b[0m\n\u001b[0m\u001b[1;32m   1397\u001b[0m         \u001b[0mself\u001b[0m\u001b[0;34m.\u001b[0m\u001b[0m_process_events\u001b[0m\u001b[0;34m(\u001b[0m\u001b[0mevent_list\u001b[0m\u001b[0;34m)\u001b[0m\u001b[0;34m\u001b[0m\u001b[0m\n\u001b[1;32m   1398\u001b[0m \u001b[0;34m\u001b[0m\u001b[0m\n",
      "\u001b[0;32m/usr/lib/python3.6/selectors.py\u001b[0m in \u001b[0;36mselect\u001b[0;34m(self, timeout)\u001b[0m\n\u001b[1;32m    443\u001b[0m             \u001b[0mready\u001b[0m \u001b[0;34m=\u001b[0m \u001b[0;34m[\u001b[0m\u001b[0;34m]\u001b[0m\u001b[0;34m\u001b[0m\u001b[0m\n\u001b[1;32m    444\u001b[0m             \u001b[0;32mtry\u001b[0m\u001b[0;34m:\u001b[0m\u001b[0;34m\u001b[0m\u001b[0m\n\u001b[0;32m--> 445\u001b[0;31m                 \u001b[0mfd_event_list\u001b[0m \u001b[0;34m=\u001b[0m \u001b[0mself\u001b[0m\u001b[0;34m.\u001b[0m\u001b[0m_epoll\u001b[0m\u001b[0;34m.\u001b[0m\u001b[0mpoll\u001b[0m\u001b[0;34m(\u001b[0m\u001b[0mtimeout\u001b[0m\u001b[0;34m,\u001b[0m \u001b[0mmax_ev\u001b[0m\u001b[0;34m)\u001b[0m\u001b[0;34m\u001b[0m\u001b[0m\n\u001b[0m\u001b[1;32m    446\u001b[0m             \u001b[0;32mexcept\u001b[0m \u001b[0mInterruptedError\u001b[0m\u001b[0;34m:\u001b[0m\u001b[0;34m\u001b[0m\u001b[0m\n\u001b[1;32m    447\u001b[0m                 \u001b[0;32mreturn\u001b[0m \u001b[0mready\u001b[0m\u001b[0;34m\u001b[0m\u001b[0m\n",
      "\u001b[0;31mKeyboardInterrupt\u001b[0m: "
     ]
    }
   ],
   "source": [
    "classifier=cv2.CascadeClassifier(\"haarcascade_frontalface_default.xml\")\n",
    "while(True):\n",
    "    while(True):\n",
    "        frame = vdma0.readchannel.readframe()\n",
    "        if(frame.max() != 0):\n",
    "            break;\n",
    "\n",
    "    time_start=time.time()\n",
    "    image_pil = Image.fromarray(frame)\n",
    "    #frame =0\n",
    "    img_cv = np.asarray(image_pil) #得到mat类型的数据\n",
    "    #tempImg = cv2.resize(img_cv, (320,240))  # 缩小图像为320x240尺寸\n",
    "\n",
    "    #image=cv2.cvtColor(img_cv,cv2.COLOR_BGR2GRAY)\n",
    "    #cv2.equalizeHist(image)\n",
    "    divisor=4\n",
    "    h=168\n",
    "    w=192\n",
    "    minSize=(w//divisor,h//divisor)\n",
    "    faceRects=classifier.detectMultiScale(img_cv,1.2,2,cv2.CASCADE_SCALE_IMAGE,minSize)\n",
    "    #end = time.time()\n",
    "\n",
    "    if len(faceRects)>0:\n",
    "        for faceRect in faceRects:\n",
    "            x,y,w,h=faceRect\n",
    "            #cv2.circle(img_cv,(x+w//2,y+h//2),min(w//2,h//2),(255,0,0))\n",
    "            #cv2.circle(img_cv,(x+w//4,y+h//4),min(w//8,h//8),(255,0,0))\n",
    "            #cv2.circle(img_cv,(x+3*w//4,y+h//4),min(w//8,h//8),(255,0,0))\n",
    "            #cv2.rectangle(img_cv,(x+3*w//8,y+3*h//4),(x+5*w//8,y+7*h//8),(255,0,0))\n",
    "    #     end = time.time()\n",
    "    time_end=time.time()\n",
    "    #img = arrayShow( tempImg)\n",
    "    #display(img)\n",
    "    #print(end - start)\n",
    "    #time.sleep(0.1)\n",
    "    img3 = Image.fromarray(cv2.cvtColor(img_cv,cv2.COLOR_GRAY2RGB))\n",
    "        #img3 = Image.fromarray(img_cv_1)\n",
    "    IPython.display.clear_output(1)\n",
    "    display(img3)\n",
    "    print('totally cost',time_end-time_start)"
   ]
  },
  {
   "cell_type": "code",
   "execution_count": 10,
   "metadata": {},
   "outputs": [],
   "source": [
    "vdma0.writechannel.stop()\n",
    "vdma0.readchannel.stop()\n",
    "vdma1.writechannel.stop()\n",
    "vdma1.readchannel.stop()"
   ]
  },
  {
   "cell_type": "code",
   "execution_count": null,
   "metadata": {},
   "outputs": [],
   "source": []
  }
 ],
 "metadata": {
  "kernelspec": {
   "display_name": "Python 3",
   "language": "python",
   "name": "python3"
  },
  "language_info": {
   "codemirror_mode": {
    "name": "ipython",
    "version": 3
   },
   "file_extension": ".py",
   "mimetype": "text/x-python",
   "name": "python",
   "nbconvert_exporter": "python",
   "pygments_lexer": "ipython3",
   "version": "3.6.5"
  }
 },
 "nbformat": 4,
 "nbformat_minor": 2
}
